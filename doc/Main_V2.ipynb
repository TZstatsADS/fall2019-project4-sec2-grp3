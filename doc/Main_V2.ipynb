{
  "nbformat": 4,
  "nbformat_minor": 0,
  "metadata": {
    "kernelspec": {
      "display_name": "Python 3",
      "language": "python",
      "name": "python3"
    },
    "language_info": {
      "codemirror_mode": {
        "name": "ipython",
        "version": 3
      },
      "file_extension": ".py",
      "mimetype": "text/x-python",
      "name": "python",
      "nbconvert_exporter": "python",
      "pygments_lexer": "ipython3",
      "version": "3.6.5"
    },
    "colab": {
      "name": "Main_V2.ipynb",
      "provenance": [],
      "collapsed_sections": []
    }
  },
  "cells": [
    {
      "cell_type": "markdown",
      "metadata": {
        "id": "OwzhXCQV2ZQB",
        "colab_type": "text"
      },
      "source": [
        "# Group 3 Project 4 - Collaborative Filtering (A1 vs A2 given P3)"
      ]
    },
    {
      "cell_type": "markdown",
      "metadata": {
        "id": "4x15KB_32ZQD",
        "colab_type": "text"
      },
      "source": [
        "## Kanyan Chen, Dingyi Fang, Yuhan Gong, Feichi Gu, Haoyu Zhang"
      ]
    },
    {
      "cell_type": "markdown",
      "metadata": {
        "id": "ia2048pv2ZQE",
        "colab_type": "text"
      },
      "source": [
        "## 11/21/2019"
      ]
    },
    {
      "cell_type": "markdown",
      "metadata": {
        "id": "3sGh82Al2ZQE",
        "colab_type": "text"
      },
      "source": [
        "## Summary"
      ]
    },
    {
      "cell_type": "markdown",
      "metadata": {
        "id": "Qli4KXm52ZQF",
        "colab_type": "text"
      },
      "source": [
        "These days we are constantly being recommended from various sources, such as suitable movies and popular music. **Collaborative Filtering** builds recommender system by analyzing relationships between users and interdependencies among items. One of methods to achieve Collaborative Filtering is **Latent Factor Models**.\n",
        "\n",
        "Latent Factor Models characterizes both items and users on some factors inferred from the ratings patterns. This process is called **Matrix Factorization**. The major work of this project is to implement, evaluate and compare two matrix factorization techniques: **Stochastic Gradient Descent** (A1) and **Gradient Descent with Probabilistic Assumptions** (A2) based on RMSE and running time. To improve accuracy of factorization, we are assigned to use **kernel ridge regression** (P3) to postprocess previous SVD results. In this file, we will present our data preprocessing, algorithm implementation, evaluation results as well as some further discussions."
      ]
    },
    {
      "cell_type": "markdown",
      "metadata": {
        "id": "wJDGWH8k2ZQG",
        "colab_type": "text"
      },
      "source": [
        "## Step 0:  Load packages and process data"
      ]
    },
    {
      "cell_type": "markdown",
      "metadata": {
        "id": "-E-l4gB42ZQH",
        "colab_type": "text"
      },
      "source": [
        "### 0.1 load packages"
      ]
    },
    {
      "cell_type": "code",
      "metadata": {
        "id": "Mxhuzo7-2ZQH",
        "colab_type": "code",
        "colab": {}
      },
      "source": [
        "import numpy as np\n",
        "import pandas as pd\n",
        "import timeit\n",
        "import matplotlib.pyplot as plt\n",
        "from sklearn.model_selection import train_test_split\n",
        "from sklearn.kernel_ridge import KernelRidge"
      ],
      "execution_count": 0,
      "outputs": []
    },
    {
      "cell_type": "markdown",
      "metadata": {
        "id": "ypYe3jlV2ZQJ",
        "colab_type": "text"
      },
      "source": [
        "### 0.2 load and process data"
      ]
    },
    {
      "cell_type": "code",
      "metadata": {
        "id": "oyGsvacN2ZQK",
        "colab_type": "code",
        "colab": {}
      },
      "source": [
        "## load rating data\n",
        "\n",
        "from google.colab import files\n",
        "import io\n",
        "uploaded = files.upload()\n",
        "Rate = pd.read_csv(io.BytesIO(uploaded['ratings.csv']))\n",
        "\n",
        "\n",
        "#Rate = pd.read_csv(\"C:\\\\Users\\\\think\\\\Desktop\\\\project4\\\\ratings.csv\")\n",
        "\n",
        "## create dictionaries to relabel userId and movieId for future convenience\n",
        "list_user = Rate.userId.unique()\n",
        "dict_user = {}\n",
        "for i in range(len(list_user)):\n",
        "    dict_user[list_user[i]] = i\n",
        "    \n",
        "list_movie = Rate.movieId.unique()    \n",
        "dict_movie = {}\n",
        "for i in range(len(list_movie)):\n",
        "    dict_movie[list_movie[i]]=i\n",
        "\n",
        "## relabel original dataset with above ordinal number\n",
        "for i in range(len(Rate)):\n",
        "    Rate[\"userId\"][i] = dict_user[Rate[\"userId\"][i]]\n",
        "    Rate[\"movieId\"][i] = dict_movie[Rate[\"movieId\"][i]]\n",
        "\n",
        "## Train, Test split\n",
        "# we split dataset by 9:1 rather than common 8:2 or 7:3 because of cold start problem\n",
        "# If our training set is too sparse, then we cannot recommend anything if new movieId exist in testing set \n",
        "Train, Test = train_test_split(Rate, test_size = 0.1)\n",
        "\n",
        "Train_user = list(Train[\"userId\"])\n",
        "Train_movie = list(Train[\"movieId\"])\n",
        "Train_rate = list(Train[\"rating\"])\n",
        "\n",
        "Test_user = list(Test[\"userId\"])\n",
        "Test_movie = list(Test[\"movieId\"])\n",
        "Test_rate = list(Test[\"rating\"])\n"
      ],
      "execution_count": 0,
      "outputs": []
    },
    {
      "cell_type": "markdown",
      "metadata": {
        "id": "uWPgD8sI2ZQO",
        "colab_type": "text"
      },
      "source": [
        "## Step 1:  implementing  A1 "
      ]
    },
    {
      "cell_type": "markdown",
      "metadata": {
        "id": "Z9MAMjCW2ZQP",
        "colab_type": "text"
      },
      "source": [
        "### 1.1 Introduction about Algorithm"
      ]
    },
    {
      "cell_type": "markdown",
      "metadata": {
        "id": "_H8YhyAj2ZQP",
        "colab_type": "text"
      },
      "source": [
        "As mentioned in Paper 1, the concept of matrix factorization can be written mathematically as $\\hat{\\mathbf{R}}=\\mathbf{Q}^\\intercal \\mathbf{P}$ where latent movie feature vector $Q$ and latent user feature vector $P$ are (k,m) and (k,n) matrices respectively.\n",
        "Then we can create following objective function that we want to minimize with respect to $Q$ and $P:$ $\\sum (r_{ui}-q_{i}^\\intercal {p_{u}})^{2}+ \\lambda ({\\| q_{i}\\|}^2+{\\| p_{u}\\|}^2)$. The term on the left is prediction error term. The term on the right is the regularization term. This is added since we do not want our decomposed matrix $Q$ and $P$ to overfit the observed data. "
      ]
    },
    {
      "cell_type": "markdown",
      "metadata": {
        "id": "V4mb_TYN2ZQQ",
        "colab_type": "text"
      },
      "source": [
        "One obvious method to find matrix $Q$ and $P$  is the ** Stochastic Gradient Descent** method. Since we have the loss function defined above, we can take the partial derivative respect to $q$ and $p$ to optimize existing values. The updating rule look like as below: "
      ]
    },
    {
      "cell_type": "markdown",
      "metadata": {
        "id": "NF6bTgne2ZQR",
        "colab_type": "text"
      },
      "source": [
        "$q_{i} \\leftarrow q_{i} + \\gamma \\cdot(e_{ui} \\cdot p_{u}-\\lambda  \\cdot q_{i})$"
      ]
    },
    {
      "cell_type": "markdown",
      "metadata": {
        "id": "_a81YxBS2ZQS",
        "colab_type": "text"
      },
      "source": [
        "$p_{u} \\leftarrow p_{u} + \\gamma \\cdot(e_{ui} \\cdot q_{i}-\\lambda  \\cdot p_{u})$"
      ]
    },
    {
      "cell_type": "markdown",
      "metadata": {
        "id": "c3EcuPQh2ZQS",
        "colab_type": "text"
      },
      "source": [
        "In addition, to compare different algorithms and tune paramters, we mainly use measure Root Mean Square Error, the formula is as below:"
      ]
    },
    {
      "cell_type": "markdown",
      "metadata": {
        "id": "eqlNDuye2ZQT",
        "colab_type": "text"
      },
      "source": [
        "$RMSE = \\sqrt{\\cfrac{1}{n} \\cdot \\sum({r_{ui}-\\hat{r_{ui}})^2}} $"
      ]
    },
    {
      "cell_type": "markdown",
      "metadata": {
        "id": "3fQrK86h2ZQT",
        "colab_type": "text"
      },
      "source": [
        "We create Python scripts to implement this algorithm:"
      ]
    },
    {
      "cell_type": "code",
      "metadata": {
        "id": "JxotqPgo2ZQU",
        "colab_type": "code",
        "colab": {}
      },
      "source": [
        "## for A1, we use cross validation shown in 2.2 to find the optimal parameters: \n",
        "## factor = 15, lambda = 0.1, lr = 0.01  \n",
        "\n",
        "def A1(Factor=20, Lambda=0.05, epochs=200, lr=0.01):\n",
        "    ## set initial values for P & Q; history will show updating RMSE\n",
        "    mu = (sum(Train_rate)/Factor/len(Train_rate))**.5\n",
        "    P = np.random.normal(mu, .05, (len(list_user),Factor))\n",
        "    Q = np.random.normal(mu, .05, (len(list_movie),Factor))\n",
        "    history = np.zeros((epochs,2))\n",
        "    last_change = 0\n",
        "\n",
        "    for iteration in range(epochs):\n",
        "        for i in range(len(Train)):\n",
        "            \n",
        "            ## find label or the ordinal for the user and movie\n",
        "            user = Train_user[i] \n",
        "            movie = Train_movie[i] \n",
        "            error = Train_rate[i]-np.dot(Q[movie],P[user])\n",
        "            temp = Q[movie]\n",
        "            \n",
        "            ## gradient descent\n",
        "            Q[movie] = Q[movie] + lr*(error*P[user]-Lambda*Q[movie])\n",
        "            P[user] = P[user] + lr*(error*temp-Lambda*P[user])\n",
        "            \n",
        "        ## calculate training and testing rmse after each epoch\n",
        "        history[iteration,0] = (sum([(Train_rate[i]-np.dot(Q[Train_movie[i]],P[Train_user[i]]))**2 for i in range(len(Train))])/len(Train))**.5\n",
        "        history[iteration,1] = (sum([(Test_rate[i]-np.dot(Q[Test_movie[i]],P[Test_user[i]]))**2 for i in range(len(Test))])/len(Test))**.5\n",
        "        print(iteration,history[iteration,:])\n",
        "        \n",
        "        ## automatically change learning rate to avoid diverging\n",
        "        if iteration-last_change>=30 and lr>0.0002:\n",
        "            lr = lr * 0.4\n",
        "            last_change = iteration\n",
        "            print(\"learning rate change to \",lr)\n",
        "    \n",
        "    return P,Q,history"
      ],
      "execution_count": 0,
      "outputs": []
    },
    {
      "cell_type": "code",
      "metadata": {
        "id": "33rUt0cU2ZQW",
        "colab_type": "code",
        "colab": {}
      },
      "source": [
        "## show RMSE history for training and testing set based on A1; and calculate running time\n",
        "\n",
        "start1 = timeit.default_timer()\n",
        "result1 = A1(epochs=200)\n",
        "stop1 = timeit.default_timer()\n",
        "\n",
        "print('Running Time for A1: ', stop1 - start1, 's')"
      ],
      "execution_count": 0,
      "outputs": []
    },
    {
      "cell_type": "markdown",
      "metadata": {
        "id": "fm1KRCo62ZQY",
        "colab_type": "text"
      },
      "source": [
        "### 1.2 Parameter Tuning"
      ]
    },
    {
      "cell_type": "code",
      "metadata": {
        "id": "bhqyMU1t2ZQZ",
        "colab_type": "code",
        "colab": {}
      },
      "source": [
        "'''\n",
        "import numpy as np\n",
        "import pandas as pd\n",
        "from sklearn.model_selection import train_test_split, KFold\n",
        "from itertools import product\n",
        "import multiprocessing\n",
        "    \n",
        "## Train Test split\n",
        "K = 5\n",
        "Train_list = []\n",
        "kf = KFold(n_splits = K,shuffle = True)\n",
        "for Train_index in kf.split(Rate):\n",
        "    Train_list = Train_list + [Rate.iloc[Train_index]]\n",
        "    \n",
        "def Df_to_list(Train,Test):\n",
        "    Train_user = list(Train[\"userId\"])\n",
        "    Train_movie = list(Train[\"movieId\"])\n",
        "    Train_rate = list(Train[\"rating\"])\n",
        "    Test_user = list(Test[\"userId\"])\n",
        "    Test_movie = list(Test[\"movieId\"])\n",
        "    Test_rate = list(Test[\"rating\"])\n",
        "    return Train_user,Train_movie,Train_rate,Test_user,Test_movie,Test_rate\n",
        "\n",
        "\n",
        "def SGD_CV(pairs):\n",
        "    factor = pairs[0]\n",
        "    lambda_A1 = pairs[1]\n",
        "    epochs = pairs[2]\n",
        "    best_rmse = []\n",
        "    for k in range(K):\n",
        "        lr = pairs[3]\n",
        "        P = np.random.normal(0, .1, (len(list_user),factor))\n",
        "        Q = np.random.normal(0, .1, (len(list_movie),factor))\n",
        "        Train_user, Train_movie, Train_rate, Validation_user, Validation_movie, Validation_rate = Df_to_list(Train_list[k],Validation_list[k])\n",
        "        history = np.zeros((epochs,2))\n",
        "        for _ in range(epochs):\n",
        "            for i in range(len(Train_user)):\n",
        "                user = Train_user[i]\n",
        "                movie = Train_movie[i]\n",
        "                error = Train_rate[i]-np.dot(Q[movie],P[user])\n",
        "                temp = Q[movie]\n",
        "                Q[movie] = Q[movie] + lr*(error*P[user]-lambda_A1*Q[movie])\n",
        "                P[user] = P[user] + lr*(error*temp-lambda_A1*P[user])\n",
        "                # calculate training and testing rmse after each epoch\n",
        "            #history[_,0] = sum([(Train_rate[i]-np.dot(Q[Train_movie[i]],P[Train_user[i]]))**2 for i in range(len(Train_user))])/len(Train_user)\n",
        "            #history[_,1] = sum([(Validation_rate[i]-np.dot(Q[Validation_movie[i]],P[Validation_user[i]]))**2 for i in range(len(Validation_user))])/len(Validation_user)\n",
        "            #print(_,history[_,0],history[_,1])\n",
        "            if _%30==0 and _>0 and lr>0.0001:\n",
        "                lr = lr * 0.4\n",
        "        best_rmse.append((sum([(Validation_rate[i]-np.dot(Q[Validation_movie[i]],P[Validation_user[i]]))**2 for i in range(len(Validation_user))])/len(Validation_user))**.5)\n",
        "    return best_rmse,factor,lambda_A1,epochs,lr\n",
        "\n",
        "if __name__ == '__main__':\n",
        "    P = [[8,10,12,15,20],[0.05,0.1,0.15,0.2],[500],[0.01]] # Factor, lambda, epochs(should be 300, 20 is for testing only),learning rate \n",
        "    pairs = product(*P)\n",
        "    pool = multiprocessing.Pool() # change the process amount based on your own CPU, default is using all Threads\n",
        "    result = pool.map(SGD_CV, pairs)\n",
        "    pool.close()\n",
        "    pool.join()\n",
        "    with open('A1.txt', 'w') as file:\n",
        "        for i in result:\n",
        "            file.writelines(str(sum(i[0])/K))\n",
        "            file.writelines([str(t)+',' for t in i[1:]]+[\"\\n\"])\n",
        "'''"
      ],
      "execution_count": 0,
      "outputs": []
    },
    {
      "cell_type": "markdown",
      "metadata": {
        "id": "5EM3Kb9u2ZQb",
        "colab_type": "text"
      },
      "source": [
        "## Step 2:   Implementing  A2"
      ]
    },
    {
      "cell_type": "markdown",
      "metadata": {
        "id": "VK59yU_12ZQb",
        "colab_type": "text"
      },
      "source": [
        "### 2.1 Introduction about Algorithm"
      ]
    },
    {
      "cell_type": "markdown",
      "metadata": {
        "id": "o2VHAhNf2ZQc",
        "colab_type": "text"
      },
      "source": [
        "In brief, Probabilistic Matrix Factorization is a simple probabilistic model with Gaussian observation\n",
        "noise. Similar to A1, as indicated in Paper 2, we should minimize the sum-of-squared-errors objective function with respect to $Q$ and $P :$ $$\\frac{1}{2} \\sum_{i=1}^{N} \\sum_{u=1}^{M} I_{ui}(r_{ui}-q_{i}^\\intercal {p_{u}})^2 + \\frac{\\lambda_{q}}{2} \\sum_{i=1}^{N}{\\| q_{i}\\|}^2 + \\frac{\\lambda_{p}}{2}\\sum_{u=1}^{M}{\\| p_{u}\\|}^2$$"
      ]
    },
    {
      "cell_type": "markdown",
      "metadata": {
        "id": "t8rM4M0P2ZQd",
        "colab_type": "text"
      },
      "source": [
        "$I_{ui}$ is the indicator function that is equal to 1 if user $u$ rated movie $i$ and equal to 0 otherwise"
      ]
    },
    {
      "cell_type": "markdown",
      "metadata": {
        "id": "j0HXXBTF2ZQd",
        "colab_type": "text"
      },
      "source": [
        "We also use gradient descent to find local minimum of the above objective function. Scripts are as below:"
      ]
    },
    {
      "cell_type": "code",
      "metadata": {
        "id": "jmI5w4dk2ZQe",
        "colab_type": "code",
        "colab": {}
      },
      "source": [
        "## for A2, we use cross validation shown in 3.2 to find the optimal parameters: \n",
        "## factor = 5, Lambda_P = 0.1, Lambda_Q = 0.1, lr = 0.0001  \n",
        "\n",
        "def A2(Factor=5, Lambda_P=0.1, Lambda_Q=0.1, epochs=500, lr=0.0001):\n",
        "    mu = (sum(Train_rate)/Factor/len(Train_rate))**.5\n",
        "    P = np.random.normal(mu, .05, (len(list_user),Factor))\n",
        "    Q = np.random.normal(mu, .05, (len(list_movie),Factor))\n",
        "    history = np.zeros((epochs,2))\n",
        "    for iteration in range(epochs):\n",
        "        Gradient_P = np.zeros((len(list_user),Factor))\n",
        "        Gradient_Q = np.zeros((len(list_movie),Factor))\n",
        "        \n",
        "        for i in range(len(Train)):\n",
        "            user = Train_user[i]\n",
        "            movie = Train_movie[i]\n",
        "            error = Train_rate[i]-np.dot(Q[movie],P[user])\n",
        "            Gradient_P[user] += error * Q[movie] \n",
        "            Gradient_Q[movie] += error * P[user]\n",
        "        for i in range(len(list_user)):\n",
        "            Gradient_P[i] -= Lambda_P * P[i]\n",
        "        for i in range(len(list_movie)):\n",
        "            Gradient_Q[i] -= Lambda_Q * Q[i]\n",
        "        P = P + lr*Gradient_P\n",
        "        Q = Q + lr*Gradient_Q\n",
        "        \n",
        "        # calculate training and testing rmse after each epoch\n",
        "        history[iteration,0] = (sum([(Train_rate[i]-np.dot(Q[Train_movie[i]],P[Train_user[i]]))**2 for i in range(len(Train))])/len(Train))**.5\n",
        "        history[iteration,1] = (sum([(Test_rate[i]-np.dot(Q[Test_movie[i]],P[Test_user[i]]))**2 for i in range(len(Test))])/len(Test))**.5\n",
        "        print(iteration,history[iteration])\n",
        "    return P,Q,history\n"
      ],
      "execution_count": 0,
      "outputs": []
    },
    {
      "cell_type": "code",
      "metadata": {
        "id": "QxWI2BhY2ZQg",
        "colab_type": "code",
        "colab": {}
      },
      "source": [
        "## show RMSE history for training and testing set based on A2; calculate running time\n",
        "\n",
        "start2 = timeit.default_timer()\n",
        "result2 = A2()\n",
        "stop2 = timeit.default_timer()\n",
        "\n",
        "print('Running Time for A1: ', stop2 - start2, 's')"
      ],
      "execution_count": 0,
      "outputs": []
    },
    {
      "cell_type": "markdown",
      "metadata": {
        "id": "08gpimAt2ZQi",
        "colab_type": "text"
      },
      "source": [
        "### 2.2 Parameter Tuning"
      ]
    },
    {
      "cell_type": "code",
      "metadata": {
        "id": "Og93dkLw2ZQj",
        "colab_type": "code",
        "colab": {}
      },
      "source": [
        "'''\n",
        "def GD_CV(pairs):\n",
        "    factor = pairs[0]\n",
        "    Lambda_P = pairs[1]\n",
        "    Lambda_Q = pairs[2]\n",
        "    epochs = pairs[3]\n",
        "    lr = pairs[4]\n",
        "    best_rmse = []\n",
        "    for k in range(K):\n",
        "        lr = pairs[4]\n",
        "        P = np.random.normal(0, .1, (len(list_user),factor))\n",
        "        Q = np.random.normal(0, .1, (len(list_movie),factor))\n",
        "        Train_user, Train_movie, Train_rate, Validation_user, Validation_movie, Validation_rate = Df_to_list(Train_list[k],Validation_list[k])\n",
        "        history = np.zeros((epochs,2))\n",
        "        for _ in range(epochs):\n",
        "            Gradient_P = np.zeros((len(list_user),factor))\n",
        "            Gradient_Q = np.zeros((len(list_movie),factor))\n",
        "            for i in range(len(Train_user)):\n",
        "                user = Train_user[i]\n",
        "                movie = Train_movie[i]\n",
        "                error = Train_rate[i]-np.dot(Q[movie],P[user])\n",
        "                Gradient_P[user] += error * Q[movie] \n",
        "                Gradient_Q[movie] += error * P[user]\n",
        "            for i in range(len(list_user)):\n",
        "                Gradient_P[i] -= Lambda_P * P[i]\n",
        "            for i in range(len(list_movie)):\n",
        "                Gradient_Q[i] -= Lambda_Q * Q[i]\n",
        "            P = P + lr*Gradient_P\n",
        "            Q = Q + lr*Gradient_Q\n",
        "            # calculate training and testing rmse after each epoch\n",
        "            #history[_,0] = sum([(Train_rate[i]-np.dot(Q[Train_movie[i]],P[Train_user[i]]))**2 for i in range(len(Train_user))])/len(Train_user)\n",
        "            #history[_,1] = sum([(Validation_rate[i]-np.dot(Q[Validation_movie[i]],P[Validation_user[i]]))**2 for i in range(len(Validation_user))])/len(Validation_user)\n",
        "            \n",
        "        best_rmse.append((sum([(Validation_rate[i]-np.dot(Q[Validation_movie[i]],P[Validation_user[i]]))**2 for i in range(len(Validation_user))])/len(Validation_user))**.5)\n",
        "    return sum(best_rmse)/K,factor,Lambda_P,Lambda_Q,epochs,lr\n",
        "\n",
        "#GD_CV([5,0.1,0.2,20,0.001])\n",
        "\n",
        "if __name__ == '__main__':\n",
        "    P = [[3,5,7,10],[0.1,0.2],[0.1,0.2],[300],[0.001]] # Factor, lambda_P, lambda_Q, epochs(should be 300, 20 is for testing only),learning rate \n",
        "    pairs = product(*P)\n",
        "    pool = multiprocessing.Pool() # change the process amount based on your own CPU, default is using all Threads\n",
        "    result = pool.map(GD_CV, pairs)\n",
        "    pool.close()\n",
        "    pool.join()\n",
        "    print(result)\n",
        "    with open('A2.txt', 'w') as file:\n",
        "        for i in result:\n",
        "            file.writelines([str(t)+',' for t in i]+[\"\\n\"])\n",
        "'''"
      ],
      "execution_count": 0,
      "outputs": []
    },
    {
      "cell_type": "markdown",
      "metadata": {
        "id": "2FhzMyRE2ZQl",
        "colab_type": "text"
      },
      "source": [
        "## Step 3:   Postprocessing"
      ]
    },
    {
      "cell_type": "markdown",
      "metadata": {
        "id": "EkBRojjx2ZQl",
        "colab_type": "text"
      },
      "source": [
        "### 3.1 Introduction about Model"
      ]
    },
    {
      "cell_type": "markdown",
      "metadata": {
        "id": "C-uQo8tW2ZQm",
        "colab_type": "text"
      },
      "source": [
        "After matrix factorization, postprocessing will be performed to improve accuracy. Here we apply kernel ridge regression (P3) to previous SVD results. "
      ]
    },
    {
      "cell_type": "markdown",
      "metadata": {
        "id": "UG-zf4Cw2ZQn",
        "colab_type": "text"
      },
      "source": [
        "Commonly we will predict rating by $r_{ui}=q_{i}^\\intercal {p_{u}}$. For P3, it discards all latent user feature vectors $P$ after training matrix factorization algorithms and try to predict rating for each user $u$ by fitting kernel ridge regression and using latent movie feature vector $Q$ as predictors. By changing Gram matrix, we can have different kernels. The Gaussian kernel in Paper 2 does not perform that well as we expect, so we change to ***rbf*** kernel and tune its parameter. "
      ]
    },
    {
      "cell_type": "code",
      "metadata": {
        "id": "jLfgeDUe2ZQn",
        "colab_type": "code",
        "colab": {}
      },
      "source": [
        "## for A1 & A2, we will tune parameters separately\n",
        "\n",
        "def KRR(Q,alpha=0.5,gamma=0.01):\n",
        "    train_error = []\n",
        "    test_error = []\n",
        "    \n",
        "    for i in Test.userId.unique():\n",
        "        ## training set for user i\n",
        "        y = []\n",
        "        X = []\n",
        "        \n",
        "        ## testing set for user i\n",
        "        X_test = []\n",
        "        y_test = []\n",
        "        \n",
        "        ## remember we should normalize movie vectors  \n",
        "        for j in range(len(Test)):\n",
        "            if Test_user[j]==i:\n",
        "                X_test.append(Q[Test_movie[j]]/np.linalg.norm(Q[Test_movie[j]]))\n",
        "                y_test.append(Test_rate[j])\n",
        "        for j in range(len(Train)):\n",
        "            if Train_user[j]==i:\n",
        "                X.append(Q[Train_movie[j]]/np.linalg.norm(Q[Train_movie[j]]))\n",
        "                y.append(Train_rate[j])\n",
        "        \n",
        "        clf = KernelRidge(alpha = alpha, kernel = \"rbf\", gamma = gamma)\n",
        "        clf.fit(X,y)\n",
        "        y_estimate = clf.predict(X_test)\n",
        "        y_train_estimate = clf.predict(X)\n",
        "        train_error = train_error + [y[k] - y_train_estimate[k] for k in range(len(y))]\n",
        "        test_error = test_error + [y_test[k] - y_estimate[k] for k in range(len(y_test))]\n",
        "        \n",
        "    print((sum([train_error[i]**2 for i in range(len(train_error))])/len(train_error))**.5)\n",
        "    print((sum([test_error[i]**2 for i in range(len(test_error))])/len(test_error))**.5)\n",
        "    return (sum([test_error[i]**2 for i in range(len(test_error))])/len(test_error))**.5"
      ],
      "execution_count": 0,
      "outputs": []
    },
    {
      "cell_type": "code",
      "metadata": {
        "id": "ckpF-T162ZQp",
        "colab_type": "code",
        "outputId": "8271dbd8-a498-4af7-b887-f52a76eee28d",
        "colab": {
          "base_uri": "https://localhost:8080/",
          "height": 72
        }
      },
      "source": [
        "# show RMSE for A1P3 and calculate running time\n",
        "\n",
        "start_13 = timeit.default_timer()\n",
        "A1P3 = KRR(result1[1],alpha=0.5,gamma=0.1)\n",
        "stop_13 = timeit.default_timer()\n",
        "\n",
        "print('Running Time for A1P3: ', stop_13 - start_13, 's')"
      ],
      "execution_count": 17,
      "outputs": [
        {
          "output_type": "stream",
          "text": [
            "0.6406904196028844\n",
            "0.8982856059265927\n",
            "Running Time for A1P3:  43.12218872399899 s\n"
          ],
          "name": "stdout"
        }
      ]
    },
    {
      "cell_type": "code",
      "metadata": {
        "id": "idwDOGJS2ZQt",
        "colab_type": "code",
        "outputId": "3d2a3b1d-9a51-4f2e-b83a-bfe55e34c06c",
        "colab": {
          "base_uri": "https://localhost:8080/",
          "height": 72
        }
      },
      "source": [
        "# show RMSE for A2P3 and calculate running time\n",
        "\n",
        "start_23 = timeit.default_timer()\n",
        "A2P3 = KRR(result2[1],alpha=0.5,gamma=0.2)\n",
        "stop_23 = timeit.default_timer()\n",
        "\n",
        "print('Running Time for A2P3: ', stop_23 - start_23, 's')"
      ],
      "execution_count": 23,
      "outputs": [
        {
          "output_type": "stream",
          "text": [
            "0.9284085638595198\n",
            "0.9379110179456425\n",
            "Running Time for A2P3:  42.527320585999405 s\n"
          ],
          "name": "stdout"
        }
      ]
    },
    {
      "cell_type": "markdown",
      "metadata": {
        "id": "iWYfIasC2ZQx",
        "colab_type": "text"
      },
      "source": [
        "### 3.2 Parameter Tuning"
      ]
    },
    {
      "cell_type": "markdown",
      "metadata": {
        "id": "PwhfjAxxzJ42",
        "colab_type": "text"
      },
      "source": [
        "In this step, we tune these two parameters for A1P3 and A2P3 by inputing different values combination rather than serious cross validation. Because cross validation will split datasets and thus require different optimal $Q$ vectors. To make it easier, we just leverage the optimal $Q$ vectors from step 1 and 2 and then try different parameters for P3 without cross validation. \n"
      ]
    },
    {
      "cell_type": "markdown",
      "metadata": {
        "id": "NiwQy40z2ZQ2",
        "colab_type": "text"
      },
      "source": [
        "## Step 4:   Evaluation and Discussion"
      ]
    },
    {
      "cell_type": "markdown",
      "metadata": {
        "id": "KNeLFIyJ2ZQ3",
        "colab_type": "text"
      },
      "source": [
        "### 4.1 RMSE and Running Time Comparison"
      ]
    },
    {
      "cell_type": "code",
      "metadata": {
        "id": "kMZM_YU12ZQ4",
        "colab_type": "code",
        "colab": {
          "base_uri": "https://localhost:8080/",
          "height": 112
        },
        "outputId": "0e409336-fbcc-40b6-f3ed-78c73110459d"
      },
      "source": [
        "data = [[result1[2][199][0],result1[2][199][1],stop1-start1,A1P3,stop_13-start_13],[result2[2][499][0],result2[2][499][1],stop2-start2,A2P3,stop_23-start_23]]\n",
        "algo_list=['A1','A2']\n",
        "col_list = ['train RMSE','test RMSE','SVD time','P3 test RMSE','P3 time']\n",
        "pd.DataFrame(data, algo_list, col_list)"
      ],
      "execution_count": 26,
      "outputs": [
        {
          "output_type": "execute_result",
          "data": {
            "text/html": [
              "<div>\n",
              "<style scoped>\n",
              "    .dataframe tbody tr th:only-of-type {\n",
              "        vertical-align: middle;\n",
              "    }\n",
              "\n",
              "    .dataframe tbody tr th {\n",
              "        vertical-align: top;\n",
              "    }\n",
              "\n",
              "    .dataframe thead th {\n",
              "        text-align: right;\n",
              "    }\n",
              "</style>\n",
              "<table border=\"1\" class=\"dataframe\">\n",
              "  <thead>\n",
              "    <tr style=\"text-align: right;\">\n",
              "      <th></th>\n",
              "      <th>train RMSE</th>\n",
              "      <th>test RMSE</th>\n",
              "      <th>SVD time</th>\n",
              "      <th>P3 test RMSE</th>\n",
              "      <th>P3 time</th>\n",
              "    </tr>\n",
              "  </thead>\n",
              "  <tbody>\n",
              "    <tr>\n",
              "      <th>A1</th>\n",
              "      <td>0.517245</td>\n",
              "      <td>0.856704</td>\n",
              "      <td>280.859396</td>\n",
              "      <td>0.898286</td>\n",
              "      <td>43.122189</td>\n",
              "    </tr>\n",
              "    <tr>\n",
              "      <th>A2</th>\n",
              "      <td>0.820165</td>\n",
              "      <td>0.859496</td>\n",
              "      <td>522.432323</td>\n",
              "      <td>0.937911</td>\n",
              "      <td>42.527321</td>\n",
              "    </tr>\n",
              "  </tbody>\n",
              "</table>\n",
              "</div>"
            ],
            "text/plain": [
              "    train RMSE  test RMSE    SVD time  P3 test RMSE    P3 time\n",
              "A1    0.517245   0.856704  280.859396      0.898286  43.122189\n",
              "A2    0.820165   0.859496  522.432323      0.937911  42.527321"
            ]
          },
          "metadata": {
            "tags": []
          },
          "execution_count": 26
        }
      ]
    },
    {
      "cell_type": "markdown",
      "metadata": {
        "id": "NgjA0Nmj2ZQ6",
        "colab_type": "text"
      },
      "source": [
        "Conclusion: A1 has lower test error and takes shorter time to process factorization than A2. A1 is more time-saving because A1 converges quickly and we set epoch value for A1 to be 200 while epoch for A2 is 500. In addition, P3 postprocessing seems to lose its power regarding improving accuracy on both algorithms. We think this may be reasonable because kernel ridge regression only utilize information in movie feature vectors and thus in some cases may not be a wise choice to improve performance of our recommender system."
      ]
    },
    {
      "cell_type": "markdown",
      "metadata": {
        "id": "jhbBB9jH2ZQ6",
        "colab_type": "text"
      },
      "source": [
        "### 4.2 Converging Performance Comparison"
      ]
    },
    {
      "cell_type": "code",
      "metadata": {
        "id": "fp2FYR_Z8ZoC",
        "colab_type": "code",
        "colab": {}
      },
      "source": [
        "result1 = A1(epochs=500)"
      ],
      "execution_count": 0,
      "outputs": []
    },
    {
      "cell_type": "code",
      "metadata": {
        "id": "dOrwmk6L2ZQ7",
        "colab_type": "code",
        "outputId": "e378faf4-e55a-4e19-db36-cc95605037e6",
        "colab": {
          "base_uri": "https://localhost:8080/",
          "height": 313
        }
      },
      "source": [
        "x = range(0,500)\n",
        "plt.title('RMSE converging performance for A1 vs A2')\n",
        "plt.xlabel('epoch')\n",
        "plt.ylabel('RMSE')\n",
        "plt.plot(x, result1[2])\n",
        "plt.plot(x, result2[2])\n",
        "plt.legend(['A1 training','A1 testing','A2 training', 'A2 testing'], loc='upper right')"
      ],
      "execution_count": 29,
      "outputs": [
        {
          "output_type": "execute_result",
          "data": {
            "text/plain": [
              "<matplotlib.legend.Legend at 0x7fd127beb6d8>"
            ]
          },
          "metadata": {
            "tags": []
          },
          "execution_count": 29
        },
        {
          "output_type": "display_data",
          "data": {
            "image/png": "[encoded data removed]",
            "text/plain": [
              "<Figure size 432x288 with 1 Axes>"
            ]
          },
          "metadata": {
            "tags": []
          }
        }
      ]
    },
    {
      "cell_type": "markdown",
      "metadata": {
        "id": "b-PBGGsvjKri",
        "colab_type": "text"
      },
      "source": [
        "From above plot, we can tell that A1 converges faster than A2. In order to compare A1 and A2 in the same plot, we set epoch value of A1 to be 500 here. In addition, A1 has much lower training error than A2 and seems to have some overfitting problem. This is also reasonable because A1 has larger dimension of feature factors and somehow complex if the epoch value is the same as A2."
      ]
    },
    {
      "cell_type": "markdown",
      "metadata": {
        "id": "O49yEJRP2ZQ8",
        "colab_type": "text"
      },
      "source": [
        "### 4.3 Future Discussion"
      ]
    },
    {
      "cell_type": "markdown",
      "metadata": {
        "id": "hOvtkUu_OkAI",
        "colab_type": "text"
      },
      "source": [
        "How to set initial values for P and Q is an interesting subject. In the beginning stage of our project, we set values of P and Q equal to random number from Normal(0,0.1). This may cause many problems and result in larger RMSE because it assumes the expectation of $q_{i}^Tp_{u}$ is 0 before updating.\n",
        "\n",
        "Therefore, to fix this issue, we set intial values that can somehow let the expectation of $q_{i}^Tp_{u}$ to be the mean of ratings in our training set.\n"
      ]
    },
    {
      "cell_type": "code",
      "metadata": {
        "id": "NiQZSMQhi2p-",
        "colab_type": "code",
        "colab": {}
      },
      "source": [
        "#mu = (sum(Train_rate)/Factor/len(Train_rate))**.5) \n",
        "#P = np.random.normal(mu, .05, (len(list_user),Factor)) \n",
        "#Q = np.random.normal(mu, .05, (len(list_user),Factor)) "
      ],
      "execution_count": 0,
      "outputs": []
    },
    {
      "cell_type": "markdown",
      "metadata": {
        "id": "PxhUpo-Si57c",
        "colab_type": "text"
      },
      "source": [
        "This provides more prior information than random guesses and proves to improve the accuracy of our algorithms.\n"
      ]
    },
    {
      "cell_type": "markdown",
      "metadata": {
        "id": "WZ5efr9N2ZQ-",
        "colab_type": "text"
      },
      "source": [
        "## Reference"
      ]
    },
    {
      "cell_type": "markdown",
      "metadata": {
        "id": "1pmgriR-2ZQ_",
        "colab_type": "text"
      },
      "source": [
        "P1: Yehuda Koren, Robert Bell, Chris Volinsky. Matrix Factorization Techniques For Recommender Systems. "
      ]
    },
    {
      "cell_type": "markdown",
      "metadata": {
        "id": "m9pWiKVj2ZRA",
        "colab_type": "text"
      },
      "source": [
        "P3: Ruslan Salakhutdinov, Andriy Mnih. Probabilistic Matrix Factorization."
      ]
    },
    {
      "cell_type": "markdown",
      "metadata": {
        "id": "7wQcQvGY2ZRA",
        "colab_type": "text"
      },
      "source": [
        "P2: Arkadiusz Paterek. Improving Regularized Singular Value Decomposition for Collaborative Filtering. "
      ]
    }
  ]
}